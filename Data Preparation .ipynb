{
 "cells": [
  {
   "cell_type": "markdown",
   "metadata": {},
   "source": [
    "# Data Preparation"
   ]
  },
  {
   "cell_type": "code",
   "execution_count": 1,
   "metadata": {},
   "outputs": [],
   "source": [
    "#importing the libraries\n",
    "import numpy as np\n",
    "import pandas as pd\n",
    "import seaborn as sb\n",
    "import matplotlib.pyplot as plt\n",
    "sb.set()"
   ]
  },
  {
   "cell_type": "code",
   "execution_count": 2,
   "metadata": {},
   "outputs": [
    {
     "name": "stdout",
     "output_type": "stream",
     "text": [
      "<class 'pandas.core.frame.DataFrame'>\n",
      "RangeIndex: 99956 entries, 0 to 99955\n",
      "Data columns (total 8 columns):\n",
      " #   Column        Non-Null Count  Dtype         \n",
      "---  ------        --------------  -----         \n",
      " 0   Order Date    99956 non-null  datetime64[ns]\n",
      " 1   Brand         99956 non-null  object        \n",
      " 2   Sneaker Name  99956 non-null  object        \n",
      " 3   Sale Price    99956 non-null  float64       \n",
      " 4   Retail Price  99956 non-null  int64         \n",
      " 5   Release Date  99956 non-null  datetime64[ns]\n",
      " 6   Shoe Size     99956 non-null  float64       \n",
      " 7   Buyer Region  99956 non-null  object        \n",
      "dtypes: datetime64[ns](2), float64(2), int64(1), object(3)\n",
      "memory usage: 6.1+ MB\n"
     ]
    }
   ],
   "source": [
    "#loading raw data\n",
    "sneakerData = pd.read_excel('StockX-Data-Contest-2019-3.xlsx',sheet_name=1) #sheet_name=1 for sneaker data\n",
    "sneakerData.info()\n",
    "\n",
    "#cleaning the dates column\n",
    "sneakerData['Order Date'] = sneakerData['Order Date'].astype('datetime64[ns]')\n",
    "sneakerData['Release Date'] = sneakerData['Release Date'].astype('datetime64[ns]')\n",
    "sneakerData['Turnover Days'] = sneakerData['Order Date'] - sneakerData['Release Date']\n",
    "\n",
    "#cleaning the price column\n",
    "sneakerData['Profit'] = sneakerData['Sale Price'] - sneakerData['Retail Price']\n",
    "sneakerData['Profit Ratio'] = (sneakerData['Profit'] / sneakerData['Retail Price']).round(2)\n",
    "\n",
    "#breaking the Sneaker Name into Model Variants (categorical data)\n",
    "sneakerData['Sneaker Name'] = sneakerData['Sneaker Name'].str.lower()\n",
    "\n",
    "sneakerData[\"Model\"] = sneakerData['Sneaker Name'].apply(\n",
    "    lambda x : 'yeezy-boost-350' if 'yeezy' in x.split(\"-\") else (\n",
    "        'air-jordan-1-retro-high' if 'jordan' in x.split('-') else (\n",
    "            'air-force-1' if 'force' in x.split('-') else(\n",
    "                'air-max-90' if '90' in x.split('-') else (\n",
    "                    'air-max-97' if '97' in x.split('-') else (\n",
    "                        'air-presto' if 'presto' in x.split('-') else (\n",
    "                            'air-vapormax' if 'vapormax' in x.split('-') else (\n",
    "                                'blazer-mid' if 'blazer' in x.split('-') else (\n",
    "                                    'react-hyperdunk-2017-flyknit' if 'hyperdunk' in x.split('-') else (\n",
    "                                        'zoom-fly' if 'zoom' in x.split('-') else (np.nan)\n",
    "                                    )\n",
    "                                )\n",
    "                            )\n",
    "                        )\n",
    "                    )\n",
    "                )\n",
    "            )\n",
    "        )\n",
    "    )\n",
    ")\n"
   ]
  },
  {
   "cell_type": "code",
   "execution_count": 3,
   "metadata": {},
   "outputs": [
    {
     "name": "stdout",
     "output_type": "stream",
     "text": [
      "Empty DataFrame\n",
      "Columns: []\n",
      "Index: []\n"
     ]
    },
    {
     "name": "stderr",
     "output_type": "stream",
     "text": [
      "<ipython-input-3-3e9c9a106138>:3: UserWarning: Boolean Series key will be reindexed to match DataFrame index.\n",
      "  uncategorised_model[sneakerData['Model'].isnull() == True]\n"
     ]
    }
   ],
   "source": [
    "#check if all the Sneaker Names are categorised into Model Variants\n",
    "uncategorised_model = pd.DataFrame()\n",
    "uncategorised_model[sneakerData['Model'].isnull() == True]\n",
    "print(uncategorised_model)"
   ]
  },
  {
   "cell_type": "markdown",
   "metadata": {},
   "source": [
    "uncategorised_model is an empty DF, hence all sneakers are categorised into Model Variants"
   ]
  },
  {
   "cell_type": "code",
   "execution_count": 5,
   "metadata": {},
   "outputs": [],
   "source": [
    "#importing the colour information from stockX website, based on each sneaker name\n",
    "colourway = pd.read_excel('supplemental_data_colorway.xlsx')\n",
    "colourway['Style'] = colourway['Style'].str.lower()\n",
    "colourway.head()\n",
    "\n",
    "#merging the colourway DF with the sneakerData DF\n",
    "sneakerData = pd.merge(sneakerData,colourway,how='left',left_on='Sneaker Name',right_on='Style')"
   ]
  },
  {
   "cell_type": "code",
   "execution_count": 6,
   "metadata": {},
   "outputs": [],
   "source": [
    "#Dropping columns that are irrelevant to the analysis\n",
    "parsed_data = sneakerData.drop(['Sale Price','Retail Price','Style','Number of Sales','Website','Product Line'],axis=1)\n",
    "parsed_data['Turnover Days'] = parsed_data['Turnover Days'].dt.days\n",
    "parsed_data['Turnover Weeks'] = (parsed_data['Turnover Days'] / 7).round(0)\n",
    "parsed_data = parsed_data.drop(parsed_data[parsed_data['Turnover Weeks'] < 0].index)\n",
    "parsed_data = parsed_data.drop(parsed_data[parsed_data['Turnover Weeks'] > 52].index)\n",
    "\n",
    "#consolidating the primary colors into 1 single column\n",
    "def get_col(row):\n",
    "    for color in parsed_data.columns[10:20]:\n",
    "        if row[color] == 1:\n",
    "            return color\n",
    "parsed_data['color'] = parsed_data.apply(get_col, axis=1)\n",
    "parsed_data.to_csv('parsed_data.csv')"
   ]
  },
  {
   "cell_type": "code",
   "execution_count": null,
   "metadata": {},
   "outputs": [],
   "source": []
  }
 ],
 "metadata": {
  "kernelspec": {
   "display_name": "Python 3",
   "language": "python",
   "name": "python3"
  },
  "language_info": {
   "codemirror_mode": {
    "name": "ipython",
    "version": 3
   },
   "file_extension": ".py",
   "mimetype": "text/x-python",
   "name": "python",
   "nbconvert_exporter": "python",
   "pygments_lexer": "ipython3",
   "version": "3.8.3"
  }
 },
 "nbformat": 4,
 "nbformat_minor": 4
}
